{
 "cells": [
  {
   "cell_type": "markdown",
   "metadata": {},
   "source": [
    "# 3.線形回帰とは何か\n",
    "以下の観点をすべて含めて記述しましょう。\n",
    "\n",
    "線形回帰とは何か。  \n",
    "具体的に言うと？  \n",
    "分類と何か違うのか。"
   ]
  },
  {
   "cell_type": "markdown",
   "metadata": {},
   "source": [
    "**【回答】線形回帰とは何か？**  \n",
    "線形回帰（せんけいかいき: linear regression）とは、統計学における回帰分析の一種である。線形回帰は非線形回帰と対比される。\n",
    "\n",
    "\n",
    "**【回答】具体的に言うと**  \n",
    "線形回帰は、目的変数をy、説明変数（特徴量）がp個あるとしてx1,…,xpとした時、\n",
    "$$y=a_0+a_1x_1+・・・+a_px_p$$\n",
    "として、データを最もよく説明する係数$$a_0,a_1,…,a_p$$を求めます。そのための方法として最尤法や最小二乗法などがあります。線形と呼ばれているのは、目的変数yがそれぞれの説明変数の値の一次式の和で表されているためです。なお線形回帰は、説明変数が1変数の時は単回帰、2変数以上の時は重回帰と呼ばれます。\n",
    "\n",
    "線形回帰の種類として、最小二乗モデルがある。\n",
    "\n",
    "**【回答】分類と何が違うのか。**  \n",
    "回帰はデータを予測することが目的であるが、分類はその名の通りデータを分類することが目的である。  \n",
    "例えば以下例をご確認ください。\n",
    "\n",
    "<<回帰>>\n",
    "数値データを予測する。例えば、身長から体重を予測する。株価を予測する。\n",
    "\n",
    "<<分類>>\n",
    "写真などの画像データが与えられたとして、そこに写っている動物が何かを分類する。例えば、犬か猫か。キリンかライオンか。など。"
   ]
  },
  {
   "cell_type": "markdown",
   "metadata": {},
   "source": [
    "# 4.データを取得する\n",
    "sklearnのload_boston()メソッドを使用して、データを取得しましょう。"
   ]
  },
  {
   "cell_type": "code",
   "execution_count": 111,
   "metadata": {},
   "outputs": [],
   "source": [
    "##回答##\n",
    "from sklearn.datasets import load_boston\n",
    "\n",
    "import numpy as np\n",
    "import matplotlib.pyplot as plt\n",
    "from sklearn.model_selection import train_test_split\n",
    "from scipy.stats import zscore\n",
    "import pandas as pd\n",
    "from sklearn.linear_model import LinearRegression\n",
    "from sklearn.preprocessing import PolynomialFeatures\n",
    "from sklearn.model_selection import train_test_split\n",
    "from sklearn.metrics import mean_squared_error"
   ]
  },
  {
   "cell_type": "markdown",
   "metadata": {},
   "source": [
    "# 5.取得データをDataFrameにする\n",
    "pd.DataFrameを使用して、データを説明変数と目的変数に分けましょう。  \n",
    "今回の課題では、説明変数がload_boston().dataで、目的変数は、load_boston().targetより取得できます。  \n",
    "※load_boston()には、データを取得した際に代入したインスタンスが入ります。  \n",
    "boston = load_boston()  \n",
    "boston.features  \n",
    "雛形\n",
    "#columnsにはload_boston().feature_namesを指定して、カラム名を指定します。  \n",
    "#もしくはインスタンス.feature_names  \n",
    "X = pd.DataFrame(,columns=boston.feature_names)  \n",
    "y = pd.DataFrame()"
   ]
  },
  {
   "cell_type": "code",
   "execution_count": 112,
   "metadata": {},
   "outputs": [],
   "source": [
    "# 変数に格納\n",
    "boston = load_boston()"
   ]
  },
  {
   "cell_type": "code",
   "execution_count": 71,
   "metadata": {},
   "outputs": [
    {
     "name": "stdout",
     "output_type": "stream",
     "text": [
      "['DESCR', 'data', 'feature_names', 'target']\n"
     ]
    }
   ],
   "source": [
    "# 組み込み関数dir()を使うと、bostonモジュールで定義されている属性を調べることができる。\n",
    "print(dir(boston))"
   ]
  },
  {
   "cell_type": "code",
   "execution_count": 72,
   "metadata": {},
   "outputs": [
    {
     "name": "stdout",
     "output_type": "stream",
     "text": [
      "Boston House Prices dataset\n",
      "===========================\n",
      "\n",
      "Notes\n",
      "------\n",
      "Data Set Characteristics:  \n",
      "\n",
      "    :Number of Instances: 506 \n",
      "\n",
      "    :Number of Attributes: 13 numeric/categorical predictive\n",
      "    \n",
      "    :Median Value (attribute 14) is usually the target\n",
      "\n",
      "    :Attribute Information (in order):\n",
      "        - CRIM     per capita crime rate by town\n",
      "        - ZN       proportion of residential land zoned for lots over 25,000 sq.ft.\n",
      "        - INDUS    proportion of non-retail business acres per town\n",
      "        - CHAS     Charles River dummy variable (= 1 if tract bounds river; 0 otherwise)\n",
      "        - NOX      nitric oxides concentration (parts per 10 million)\n",
      "        - RM       average number of rooms per dwelling\n",
      "        - AGE      proportion of owner-occupied units built prior to 1940\n",
      "        - DIS      weighted distances to five Boston employment centres\n",
      "        - RAD      index of accessibility to radial highways\n",
      "        - TAX      full-value property-tax rate per $10,000\n",
      "        - PTRATIO  pupil-teacher ratio by town\n",
      "        - B        1000(Bk - 0.63)^2 where Bk is the proportion of blacks by town\n",
      "        - LSTAT    % lower status of the population\n",
      "        - MEDV     Median value of owner-occupied homes in $1000's\n",
      "\n",
      "    :Missing Attribute Values: None\n",
      "\n",
      "    :Creator: Harrison, D. and Rubinfeld, D.L.\n",
      "\n",
      "This is a copy of UCI ML housing dataset.\n",
      "http://archive.ics.uci.edu/ml/datasets/Housing\n",
      "\n",
      "\n",
      "This dataset was taken from the StatLib library which is maintained at Carnegie Mellon University.\n",
      "\n",
      "The Boston house-price data of Harrison, D. and Rubinfeld, D.L. 'Hedonic\n",
      "prices and the demand for clean air', J. Environ. Economics & Management,\n",
      "vol.5, 81-102, 1978.   Used in Belsley, Kuh & Welsch, 'Regression diagnostics\n",
      "...', Wiley, 1980.   N.B. Various transformations are used in the table on\n",
      "pages 244-261 of the latter.\n",
      "\n",
      "The Boston house-price data has been used in many machine learning papers that address regression\n",
      "problems.   \n",
      "     \n",
      "**References**\n",
      "\n",
      "   - Belsley, Kuh & Welsch, 'Regression diagnostics: Identifying Influential Data and Sources of Collinearity', Wiley, 1980. 244-261.\n",
      "   - Quinlan,R. (1993). Combining Instance-Based and Model-Based Learning. In Proceedings on the Tenth International Conference of Machine Learning, 236-243, University of Massachusetts, Amherst. Morgan Kaufmann.\n",
      "   - many more! (see http://archive.ics.uci.edu/ml/datasets/Housing)\n",
      "\n"
     ]
    }
   ],
   "source": [
    "#データセットの説明を表示\n",
    "print(boston.DESCR)"
   ]
  },
  {
   "cell_type": "code",
   "execution_count": 73,
   "metadata": {},
   "outputs": [
    {
     "name": "stdout",
     "output_type": "stream",
     "text": [
      "[[6.3200e-03 1.8000e+01 2.3100e+00 ... 1.5300e+01 3.9690e+02 4.9800e+00]\n",
      " [2.7310e-02 0.0000e+00 7.0700e+00 ... 1.7800e+01 3.9690e+02 9.1400e+00]\n",
      " [2.7290e-02 0.0000e+00 7.0700e+00 ... 1.7800e+01 3.9283e+02 4.0300e+00]\n",
      " ...\n",
      " [6.0760e-02 0.0000e+00 1.1930e+01 ... 2.1000e+01 3.9690e+02 5.6400e+00]\n",
      " [1.0959e-01 0.0000e+00 1.1930e+01 ... 2.1000e+01 3.9345e+02 6.4800e+00]\n",
      " [4.7410e-02 0.0000e+00 1.1930e+01 ... 2.1000e+01 3.9690e+02 7.8800e+00]]\n"
     ]
    }
   ],
   "source": [
    "#データの中身を表示\n",
    "print(boston.data)"
   ]
  },
  {
   "cell_type": "code",
   "execution_count": 74,
   "metadata": {},
   "outputs": [
    {
     "name": "stdout",
     "output_type": "stream",
     "text": [
      "['CRIM' 'ZN' 'INDUS' 'CHAS' 'NOX' 'RM' 'AGE' 'DIS' 'RAD' 'TAX' 'PTRATIO'\n",
      " 'B' 'LSTAT']\n"
     ]
    }
   ],
   "source": [
    "#特徴名称？の表示\n",
    "print(boston.feature_names)"
   ]
  },
  {
   "cell_type": "code",
   "execution_count": 75,
   "metadata": {},
   "outputs": [
    {
     "name": "stdout",
     "output_type": "stream",
     "text": [
      "[24.  21.6 34.7 33.4 36.2 28.7 22.9 27.1 16.5 18.9 15.  18.9 21.7 20.4\n",
      " 18.2 19.9 23.1 17.5 20.2 18.2 13.6 19.6 15.2 14.5 15.6 13.9 16.6 14.8\n",
      " 18.4 21.  12.7 14.5 13.2 13.1 13.5 18.9 20.  21.  24.7 30.8 34.9 26.6\n",
      " 25.3 24.7 21.2 19.3 20.  16.6 14.4 19.4 19.7 20.5 25.  23.4 18.9 35.4\n",
      " 24.7 31.6 23.3 19.6 18.7 16.  22.2 25.  33.  23.5 19.4 22.  17.4 20.9\n",
      " 24.2 21.7 22.8 23.4 24.1 21.4 20.  20.8 21.2 20.3 28.  23.9 24.8 22.9\n",
      " 23.9 26.6 22.5 22.2 23.6 28.7 22.6 22.  22.9 25.  20.6 28.4 21.4 38.7\n",
      " 43.8 33.2 27.5 26.5 18.6 19.3 20.1 19.5 19.5 20.4 19.8 19.4 21.7 22.8\n",
      " 18.8 18.7 18.5 18.3 21.2 19.2 20.4 19.3 22.  20.3 20.5 17.3 18.8 21.4\n",
      " 15.7 16.2 18.  14.3 19.2 19.6 23.  18.4 15.6 18.1 17.4 17.1 13.3 17.8\n",
      " 14.  14.4 13.4 15.6 11.8 13.8 15.6 14.6 17.8 15.4 21.5 19.6 15.3 19.4\n",
      " 17.  15.6 13.1 41.3 24.3 23.3 27.  50.  50.  50.  22.7 25.  50.  23.8\n",
      " 23.8 22.3 17.4 19.1 23.1 23.6 22.6 29.4 23.2 24.6 29.9 37.2 39.8 36.2\n",
      " 37.9 32.5 26.4 29.6 50.  32.  29.8 34.9 37.  30.5 36.4 31.1 29.1 50.\n",
      " 33.3 30.3 34.6 34.9 32.9 24.1 42.3 48.5 50.  22.6 24.4 22.5 24.4 20.\n",
      " 21.7 19.3 22.4 28.1 23.7 25.  23.3 28.7 21.5 23.  26.7 21.7 27.5 30.1\n",
      " 44.8 50.  37.6 31.6 46.7 31.5 24.3 31.7 41.7 48.3 29.  24.  25.1 31.5\n",
      " 23.7 23.3 22.  20.1 22.2 23.7 17.6 18.5 24.3 20.5 24.5 26.2 24.4 24.8\n",
      " 29.6 42.8 21.9 20.9 44.  50.  36.  30.1 33.8 43.1 48.8 31.  36.5 22.8\n",
      " 30.7 50.  43.5 20.7 21.1 25.2 24.4 35.2 32.4 32.  33.2 33.1 29.1 35.1\n",
      " 45.4 35.4 46.  50.  32.2 22.  20.1 23.2 22.3 24.8 28.5 37.3 27.9 23.9\n",
      " 21.7 28.6 27.1 20.3 22.5 29.  24.8 22.  26.4 33.1 36.1 28.4 33.4 28.2\n",
      " 22.8 20.3 16.1 22.1 19.4 21.6 23.8 16.2 17.8 19.8 23.1 21.  23.8 23.1\n",
      " 20.4 18.5 25.  24.6 23.  22.2 19.3 22.6 19.8 17.1 19.4 22.2 20.7 21.1\n",
      " 19.5 18.5 20.6 19.  18.7 32.7 16.5 23.9 31.2 17.5 17.2 23.1 24.5 26.6\n",
      " 22.9 24.1 18.6 30.1 18.2 20.6 17.8 21.7 22.7 22.6 25.  19.9 20.8 16.8\n",
      " 21.9 27.5 21.9 23.1 50.  50.  50.  50.  50.  13.8 13.8 15.  13.9 13.3\n",
      " 13.1 10.2 10.4 10.9 11.3 12.3  8.8  7.2 10.5  7.4 10.2 11.5 15.1 23.2\n",
      "  9.7 13.8 12.7 13.1 12.5  8.5  5.   6.3  5.6  7.2 12.1  8.3  8.5  5.\n",
      " 11.9 27.9 17.2 27.5 15.  17.2 17.9 16.3  7.   7.2  7.5 10.4  8.8  8.4\n",
      " 16.7 14.2 20.8 13.4 11.7  8.3 10.2 10.9 11.   9.5 14.5 14.1 16.1 14.3\n",
      " 11.7 13.4  9.6  8.7  8.4 12.8 10.5 17.1 18.4 15.4 10.8 11.8 14.9 12.6\n",
      " 14.1 13.  13.4 15.2 16.1 17.8 14.9 14.1 12.7 13.5 14.9 20.  16.4 17.7\n",
      " 19.5 20.2 21.4 19.9 19.  19.1 19.1 20.1 19.9 19.6 23.2 29.8 13.8 13.3\n",
      " 16.7 12.  14.6 21.4 23.  23.7 25.  21.8 20.6 21.2 19.1 20.6 15.2  7.\n",
      "  8.1 13.6 20.1 21.8 24.5 23.1 19.7 18.3 21.2 17.5 16.8 22.4 20.6 23.9\n",
      " 22.  11.9]\n"
     ]
    }
   ],
   "source": [
    "#ターゲットを表示\n",
    "print(boston.target)"
   ]
  },
  {
   "cell_type": "code",
   "execution_count": 76,
   "metadata": {},
   "outputs": [
    {
     "name": "stdout",
     "output_type": "stream",
     "text": [
      "<class 'sklearn.utils.Bunch'>\n"
     ]
    }
   ],
   "source": [
    "# （変換前）データ型の確認\n",
    "print(type(boston))"
   ]
  },
  {
   "cell_type": "markdown",
   "metadata": {},
   "source": [
    "### 回答\n",
    "説明変数：explanatory_variable  \n",
    "目的変数：purpose_variable"
   ]
  },
  {
   "cell_type": "code",
   "execution_count": 77,
   "metadata": {},
   "outputs": [],
   "source": [
    "# sklearnのデータ形式をpandasのデータ形式に変換している。\n",
    "# DataFrame(data=None, index=None, columns=None, dtype=None, copy=False)\n",
    "explanatory_variable = pd.DataFrame(boston.data, columns=boston.feature_names)\n",
    "purpose_variable = pd.DataFrame(boston.target, columns=['target'])"
   ]
  },
  {
   "cell_type": "code",
   "execution_count": 78,
   "metadata": {},
   "outputs": [
    {
     "name": "stdout",
     "output_type": "stream",
     "text": [
      "<class 'pandas.core.frame.DataFrame'>\n",
      "<class 'pandas.core.frame.DataFrame'>\n"
     ]
    }
   ],
   "source": [
    "# データ型の確認（pandas後）\n",
    "print(type(explanatory_variable))\n",
    "print(type(purpose_variable))"
   ]
  },
  {
   "cell_type": "code",
   "execution_count": 79,
   "metadata": {},
   "outputs": [
    {
     "name": "stdout",
     "output_type": "stream",
     "text": [
      "(506, 13)\n",
      "(506, 1)\n"
     ]
    }
   ],
   "source": [
    "# pandas.DataFrameのshape属性で行数と列数をタプル(行数, 列数)で取得できる。\n",
    "# 行数506、列数13であることがわかった。\n",
    "print(explanatory_variable.shape) #説明変数\n",
    "print(purpose_variable.shape) #目的変数 "
   ]
  },
  {
   "cell_type": "code",
   "execution_count": 80,
   "metadata": {},
   "outputs": [
    {
     "name": "stdout",
     "output_type": "stream",
     "text": [
      "      CRIM    ZN  INDUS  CHAS    NOX     RM   AGE     DIS  RAD    TAX  \\\n",
      "0  0.00632  18.0   2.31   0.0  0.538  6.575  65.2  4.0900  1.0  296.0   \n",
      "1  0.02731   0.0   7.07   0.0  0.469  6.421  78.9  4.9671  2.0  242.0   \n",
      "2  0.02729   0.0   7.07   0.0  0.469  7.185  61.1  4.9671  2.0  242.0   \n",
      "3  0.03237   0.0   2.18   0.0  0.458  6.998  45.8  6.0622  3.0  222.0   \n",
      "4  0.06905   0.0   2.18   0.0  0.458  7.147  54.2  6.0622  3.0  222.0   \n",
      "\n",
      "   PTRATIO       B  LSTAT  \n",
      "0     15.3  396.90   4.98  \n",
      "1     17.8  396.90   9.14  \n",
      "2     17.8  392.83   4.03  \n",
      "3     18.7  394.63   2.94  \n",
      "4     18.7  396.90   5.33  \n",
      "---------------------\n",
      "   target\n",
      "0    24.0\n",
      "1    21.6\n",
      "2    34.7\n",
      "3    33.4\n",
      "4    36.2\n"
     ]
    }
   ],
   "source": [
    "# 最初の5行を表示させる。\n",
    "print(explanatory_variable.head())\n",
    "print('---------------------')\n",
    "print(purpose_variable.head())"
   ]
  },
  {
   "cell_type": "code",
   "execution_count": 81,
   "metadata": {},
   "outputs": [
    {
     "name": "stdout",
     "output_type": "stream",
     "text": [
      "             CRIM          ZN       INDUS        CHAS         NOX          RM  \\\n",
      "count  506.000000  506.000000  506.000000  506.000000  506.000000  506.000000   \n",
      "mean     3.593761   11.363636   11.136779    0.069170    0.554695    6.284634   \n",
      "std      8.596783   23.322453    6.860353    0.253994    0.115878    0.702617   \n",
      "min      0.006320    0.000000    0.460000    0.000000    0.385000    3.561000   \n",
      "25%      0.082045    0.000000    5.190000    0.000000    0.449000    5.885500   \n",
      "50%      0.256510    0.000000    9.690000    0.000000    0.538000    6.208500   \n",
      "75%      3.647423   12.500000   18.100000    0.000000    0.624000    6.623500   \n",
      "max     88.976200  100.000000   27.740000    1.000000    0.871000    8.780000   \n",
      "\n",
      "              AGE         DIS         RAD         TAX     PTRATIO           B  \\\n",
      "count  506.000000  506.000000  506.000000  506.000000  506.000000  506.000000   \n",
      "mean    68.574901    3.795043    9.549407  408.237154   18.455534  356.674032   \n",
      "std     28.148861    2.105710    8.707259  168.537116    2.164946   91.294864   \n",
      "min      2.900000    1.129600    1.000000  187.000000   12.600000    0.320000   \n",
      "25%     45.025000    2.100175    4.000000  279.000000   17.400000  375.377500   \n",
      "50%     77.500000    3.207450    5.000000  330.000000   19.050000  391.440000   \n",
      "75%     94.075000    5.188425   24.000000  666.000000   20.200000  396.225000   \n",
      "max    100.000000   12.126500   24.000000  711.000000   22.000000  396.900000   \n",
      "\n",
      "            LSTAT  \n",
      "count  506.000000  \n",
      "mean    12.653063  \n",
      "std      7.141062  \n",
      "min      1.730000  \n",
      "25%      6.950000  \n",
      "50%     11.360000  \n",
      "75%     16.955000  \n",
      "max     37.970000  \n",
      "---------------------\n",
      "           target\n",
      "count  506.000000\n",
      "mean    22.532806\n",
      "std      9.197104\n",
      "min      5.000000\n",
      "25%     17.025000\n",
      "50%     21.200000\n",
      "75%     25.000000\n",
      "max     50.000000\n"
     ]
    }
   ],
   "source": [
    "# 平均値や最大値、最小値などを表示してみる。\n",
    "print(explanatory_variable.describe())\n",
    "print('---------------------')\n",
    "print(purpose_variable.describe())"
   ]
  },
  {
   "cell_type": "code",
   "execution_count": 82,
   "metadata": {},
   "outputs": [
    {
     "name": "stdout",
     "output_type": "stream",
     "text": [
      "CRIM       float64\n",
      "ZN         float64\n",
      "INDUS      float64\n",
      "CHAS       float64\n",
      "NOX        float64\n",
      "RM         float64\n",
      "AGE        float64\n",
      "DIS        float64\n",
      "RAD        float64\n",
      "TAX        float64\n",
      "PTRATIO    float64\n",
      "B          float64\n",
      "LSTAT      float64\n",
      "dtype: object\n",
      "---------------------\n",
      "target    float64\n",
      "dtype: object\n"
     ]
    }
   ],
   "source": [
    "# データ型を調査してみる\n",
    "print(explanatory_variable.dtypes)\n",
    "print('---------------------')\n",
    "print(purpose_variable.dtypes)"
   ]
  },
  {
   "cell_type": "code",
   "execution_count": 83,
   "metadata": {},
   "outputs": [
    {
     "name": "stdout",
     "output_type": "stream",
     "text": [
      "float64    13\n",
      "dtype: int64\n",
      "---------------------\n",
      "float64    1\n",
      "dtype: int64\n"
     ]
    }
   ],
   "source": [
    "# データ型毎の件数\n",
    "print(explanatory_variable.dtypes.value_counts())\n",
    "print('---------------------')\n",
    "print(purpose_variable.dtypes.value_counts())"
   ]
  },
  {
   "cell_type": "markdown",
   "metadata": {},
   "source": [
    "# 6.説明変数を’LSTAT’のみにする\n",
    "今回は単回帰を実践していくため、説明変数は’LSTAT’のみとし、その他は削除します。\n",
    "\n",
    "雛形  \n",
    "X ="
   ]
  },
  {
   "cell_type": "markdown",
   "metadata": {},
   "source": [
    "### 回答"
   ]
  },
  {
   "cell_type": "code",
   "execution_count": 84,
   "metadata": {},
   "outputs": [],
   "source": [
    "#説明変数をLSATAのみに限定\n",
    "thistime_explanatory_variable = explanatory_variable[\"LSTAT\"]"
   ]
  },
  {
   "cell_type": "code",
   "execution_count": 85,
   "metadata": {},
   "outputs": [
    {
     "data": {
      "text/plain": [
       "0    4.98\n",
       "1    9.14\n",
       "2    4.03\n",
       "3    2.94\n",
       "4    5.33\n",
       "Name: LSTAT, dtype: float64"
      ]
     },
     "execution_count": 85,
     "metadata": {},
     "output_type": "execute_result"
    }
   ],
   "source": [
    "thistime_explanatory_variable.head()"
   ]
  },
  {
   "cell_type": "code",
   "execution_count": 86,
   "metadata": {},
   "outputs": [
    {
     "name": "stdout",
     "output_type": "stream",
     "text": [
      "<class 'pandas.core.series.Series'>\n",
      "<class 'pandas.core.frame.DataFrame'>\n"
     ]
    }
   ],
   "source": [
    "print(type(thistime_explanatory_variable))\n",
    "print(type(purpose_variable))"
   ]
  },
  {
   "cell_type": "code",
   "execution_count": 87,
   "metadata": {},
   "outputs": [
    {
     "data": {
      "text/html": [
       "<div>\n",
       "<style scoped>\n",
       "    .dataframe tbody tr th:only-of-type {\n",
       "        vertical-align: middle;\n",
       "    }\n",
       "\n",
       "    .dataframe tbody tr th {\n",
       "        vertical-align: top;\n",
       "    }\n",
       "\n",
       "    .dataframe thead th {\n",
       "        text-align: right;\n",
       "    }\n",
       "</style>\n",
       "<table border=\"1\" class=\"dataframe\">\n",
       "  <thead>\n",
       "    <tr style=\"text-align: right;\">\n",
       "      <th></th>\n",
       "      <th>target</th>\n",
       "    </tr>\n",
       "  </thead>\n",
       "  <tbody>\n",
       "    <tr>\n",
       "      <th>0</th>\n",
       "      <td>24.0</td>\n",
       "    </tr>\n",
       "    <tr>\n",
       "      <th>1</th>\n",
       "      <td>21.6</td>\n",
       "    </tr>\n",
       "    <tr>\n",
       "      <th>2</th>\n",
       "      <td>34.7</td>\n",
       "    </tr>\n",
       "    <tr>\n",
       "      <th>3</th>\n",
       "      <td>33.4</td>\n",
       "    </tr>\n",
       "    <tr>\n",
       "      <th>4</th>\n",
       "      <td>36.2</td>\n",
       "    </tr>\n",
       "  </tbody>\n",
       "</table>\n",
       "</div>"
      ],
      "text/plain": [
       "   target\n",
       "0    24.0\n",
       "1    21.6\n",
       "2    34.7\n",
       "3    33.4\n",
       "4    36.2"
      ]
     },
     "execution_count": 87,
     "metadata": {},
     "output_type": "execute_result"
    }
   ],
   "source": [
    "purpose_variable.head()"
   ]
  },
  {
   "cell_type": "markdown",
   "metadata": {},
   "source": [
    "# 7.単回帰と重回帰についての違いを記述せよ\n",
    "※head()メソッドなどを使用して、データを確認する  \n",
    "※は、課題要件ではないことを表します。  \n",
    "X.head()\n",
    "y.head()"
   ]
  },
  {
   "cell_type": "markdown",
   "metadata": {},
   "source": [
    "### 【回答】###  \n",
    "\n",
    "説明変数（xベクトル）が 1 つだけの場合「単回帰分析」と呼ばれ、説明変数が 2 変数以上で構成される場合「重回帰分析」と呼ばれます。"
   ]
  },
  {
   "cell_type": "markdown",
   "metadata": {},
   "source": [
    "# 8.テストデータに分割する\n",
    "sklearnのsklearn.model_selection.train_test_splitを使用して、データセットのデータを8対2(テスト)に分けましょう。  \n",
    "雛形  \n",
    "X_train, X_test, y_train, y_test =  \n",
    "※データの形状を確認する  \n",
    "きちんと分割されているかshapeメソッドを使用して確認すると良いでしょう。"
   ]
  },
  {
   "cell_type": "code",
   "execution_count": 88,
   "metadata": {},
   "outputs": [],
   "source": [
    "X_train, X_test, y_train, y_test = train_test_split(thistime_explanatory_variable, purpose_variable,train_size=0.8, test_size=0.2, random_state=0)"
   ]
  },
  {
   "cell_type": "code",
   "execution_count": 89,
   "metadata": {},
   "outputs": [
    {
     "name": "stdout",
     "output_type": "stream",
     "text": [
      "(404,) 1 <class 'pandas.core.series.Series'>\n",
      "(102,) 1 <class 'pandas.core.series.Series'>\n",
      "-----------------\n",
      "(404, 1) 2 <class 'pandas.core.frame.DataFrame'>\n",
      "(102, 1) 2 <class 'pandas.core.frame.DataFrame'>\n"
     ]
    }
   ],
   "source": [
    "print(X_train.shape, X_train.ndim, type(X_train))\n",
    "print(X_test.shape, X_test.ndim, type(X_test))\n",
    "print('-----------------')\n",
    "print(y_train.shape, y_train.ndim, type(y_train))\n",
    "print(y_test.shape, y_test.ndim, type(y_test))"
   ]
  },
  {
   "cell_type": "code",
   "execution_count": 90,
   "metadata": {},
   "outputs": [
    {
     "data": {
      "text/plain": [
       "220     9.71\n",
       "71      9.88\n",
       "240    11.38\n",
       "6      12.43\n",
       "417    26.64\n",
       "Name: LSTAT, dtype: float64"
      ]
     },
     "execution_count": 90,
     "metadata": {},
     "output_type": "execute_result"
    }
   ],
   "source": [
    "X_train.head()"
   ]
  },
  {
   "cell_type": "markdown",
   "metadata": {},
   "source": [
    "# 9.学習\n",
    "LinearRegression()を使用してインスタンスを作成し、fitメソッドを使用して学習を行いましょう。\n",
    "\n",
    "雛形  \n",
    "lin_1d = LinearRegression()\n",
    "lin_1d.fit()"
   ]
  },
  {
   "cell_type": "code",
   "execution_count": 91,
   "metadata": {},
   "outputs": [
    {
     "name": "stdout",
     "output_type": "stream",
     "text": [
      "(404, 1)\n",
      "(404, 1)\n"
     ]
    }
   ],
   "source": [
    "# NumPyの配列に次元を追加します。方法は2つあります。\n",
    "print(X_train[:,None].shape)\n",
    "print(X_train[:, np.newaxis].shape)"
   ]
  },
  {
   "cell_type": "markdown",
   "metadata": {},
   "source": [
    "**【回答】**"
   ]
  },
  {
   "cell_type": "code",
   "execution_count": 92,
   "metadata": {},
   "outputs": [
    {
     "data": {
      "text/plain": [
       "LinearRegression(copy_X=True, fit_intercept=True, n_jobs=1, normalize=False)"
      ]
     },
     "execution_count": 92,
     "metadata": {},
     "output_type": "execute_result"
    }
   ],
   "source": [
    "# fitメソッド：線形モデルの重みを学習\n",
    "lin_1d = LinearRegression()\n",
    "lin_1d.fit(X_train[:,np.newaxis],y_train)"
   ]
  },
  {
   "cell_type": "markdown",
   "metadata": {},
   "source": [
    "# 10.決定係数\n",
    "scoreメソッドを使用して、決定係数を求めましょう。  \n",
    "score_1d = lin_1d.score()  \n",
    "print(\"一次式における'LSTAT'の住宅価格への決定係数は%.2f\"%(score_1d))"
   ]
  },
  {
   "cell_type": "markdown",
   "metadata": {},
   "source": [
    "**【回答】**"
   ]
  },
  {
   "cell_type": "code",
   "execution_count": 93,
   "metadata": {},
   "outputs": [
    {
     "name": "stdout",
     "output_type": "stream",
     "text": [
      "一次式における'LSTAT'の住宅価格への決定係数は43.1%\n"
     ]
    }
   ],
   "source": [
    "# scoreメソッド：決定係数（線形モデルがどの程度目的変数を説明できるか）を出力\n",
    "score_1d = lin_1d.score(X_test[:,np.newaxis],y_test)\n",
    "print(\"一次式における'LSTAT'の住宅価格への決定係数は{:.1f}%\".format(score_1d*100))"
   ]
  },
  {
   "cell_type": "markdown",
   "metadata": {},
   "source": [
    "# 11.決定係数とは何か記述せよ\n",
    "以下の観点をすべて含めて記述しましょう。  \n",
    "\n",
    "・決定係数とは何か  \n",
    "・もっとも説明変数が、目的変数を説明できる場合、決定係数は何になるか  \n",
    "・どのように求めることができるか"
   ]
  },
  {
   "cell_type": "markdown",
   "metadata": {},
   "source": [
    "**【回答】**  \n",
    "**<決定係数とは何か>**   \n",
    "決定係数とは、回帰分析によって求められた目的変数の予測値が、実際の目的変数（教師データの値）と、どのくらい一致しているかを表している指標です。回帰分析の精度を表す指標です。\n",
    "\n",
    "**<もっとも説明変数が、目的変数を説明できる場合、決定係数は何になるか>**  \n",
    "説明変数が、目的変数と相関関係にある場合、決定係数は１に近づき、１に近いほど分析の精度の良さ（データとの当てはまり具合）を表します。つまり決定係数が１である場合は、説明変数と目的変数が同じであると言えます。決定係数は０から１の値をとります。\n",
    "\n",
    "**<どのように求めることができるか>**  \n",
    "決定係数を求めるにためには、Rは決定係数\n",
    "\n",
    "$$ R^2 = 1- \\frac{目的変数の予測値の偏差平方和}{目的変数の観測値の偏差平方和}\\ $$ \n",
    "\n",
    "一般式で表すと $$ R^2 = 1 - \\frac{\\sum_{i = 1} ^ {a}(y_i - f(x_i))^2}{\\sum_{i = 1} ^ {a}(y_i - μ_y)^2}\\ $$\n",
    "\n",
    "\n",
    "$(x_i,y_i)$がデータ、$μ_y$は$y_i$の平均値。$f(x_i)$は回帰モデルを表します。\n",
    "pythonでのscikit-learnライブラリを用いた決定係数の求め方は、LinearRegression().score(説明変数（x）,目的変数（y）)となります。\n",
    "\n",
    "分母は全変動と呼ばれ、データそもそものバラツキ具合を表します。観測値$y_i$がどれだけばらついているかという指標です。  \n",
    "分子は残差変動と呼ばれ、回帰モデルと実測値とのズレを表します。\n",
    "\n",
    "参考にしたページは以下です。  \n",
    "https://mathtrain.jp/ketteikeisu"
   ]
  },
  {
   "cell_type": "markdown",
   "metadata": {},
   "source": [
    "# 12.決定係数をいかなる場合も信じても良いか記述せよ\n",
    "### (決定係数が高ければ、汎用性があるモデルと言えるか)\n",
    "決定係数が正しく評価できない例を答えよ  \n",
    "ヒント  \n",
    "\n",
    "データ数の視点から記述してみましょう。  \n",
    "\n",
    "参考  \n",
    "\n",
    "http://xica.net/magellan/marketing-idea/stats/about-coefficient-of-determination/"
   ]
  },
  {
   "cell_type": "markdown",
   "metadata": {},
   "source": [
    "**【回答】**  \n",
    "盲信してはいけない。  \n",
    "訓練データに含まれる値とは異なるようなデータで予測した場合には、いくら決定係数が高くても予測結果と実際の値が近くなるという保証はない。つまり、あくまで訓練に使用されたデータの範囲に似ているデータであれば、精度高く予測できるので決定係数も信用しても良いと思う。\n",
    "\n",
    "また、書籍の中で興味深い記載がありましたので以下の記述します。\n",
    "~~~~~~~~~~~~~~~~~\n",
    "決定係数というのは、それがどんな無意味な変数であっても説明変数が増えると増加することが知られています。（省略）　決定係数を基準にするとその説明変数を追加したモデルが選ばれてしまうのです。このような問題を解決するのが、自由度調整済み決定係数です。  \n",
    "Pythonで理解する統計解析の基礎（技術評論社　谷合廣紀）\n",
    "~~~~~~~~~~~~~~~~~\n"
   ]
  },
  {
   "cell_type": "markdown",
   "metadata": {},
   "source": [
    "# 13.2,3,4次式の回帰\n",
    "PolynomialFeatures()とfit_transform()メソッドを使用して、2,3,4次式の回帰に挑戦しましょう。ここでも学習を行い、決定係数を求めましょう。  "
   ]
  },
  {
   "cell_type": "code",
   "execution_count": 94,
   "metadata": {},
   "outputs": [
    {
     "name": "stdout",
     "output_type": "stream",
     "text": [
      "2次式における'LSTAT'の住宅価格への決定係数は0.52\n",
      "3次式における'LSTAT'の住宅価格への決定係数は0.54\n",
      "4次式における'LSTAT'の住宅価格への決定係数は0.57\n"
     ]
    }
   ],
   "source": [
    "degree_2=PolynomialFeatures(degree=2)\n",
    "degree_3=PolynomialFeatures(degree=3)\n",
    "degree_4=PolynomialFeatures(degree=4)\n",
    "\n",
    "x_train_2=degree_2.fit_transform(X_train[:,np.newaxis])\n",
    "x_train_3=degree_3.fit_transform(X_train[:,np.newaxis])\n",
    "x_train_4=degree_4.fit_transform(X_train[:,np.newaxis])\n",
    "\n",
    "#インスタンス作成\n",
    "lin_2d = LinearRegression()\n",
    "lin_3d = LinearRegression()\n",
    "lin_4d = LinearRegression()\n",
    "\n",
    "#学習\n",
    "lin_2d.fit(x_train_2,y_train)\n",
    "lin_3d.fit(x_train_3,y_train)\n",
    "lin_4d.fit(x_train_4,y_train)\n",
    "\n",
    "x_test_2 = degree_2.fit_transform(X_test[:,np.newaxis])\n",
    "x_test_3 = degree_3.fit_transform(X_test[:,np.newaxis])\n",
    "x_test_4 = degree_4.fit_transform(X_test[:,np.newaxis])\n",
    "\n",
    "score_2d = lin_2d.score(x_test_2, y_test)\n",
    "score_3d = lin_3d.score(x_test_3, y_test)\n",
    "score_4d = lin_4d.score(x_test_4, y_test)\n",
    "\n",
    "print(\"2次式における'LSTAT'の住宅価格への決定係数は%.2f\"%(score_2d))\n",
    "print(\"3次式における'LSTAT'の住宅価格への決定係数は%.2f\"%(score_3d))\n",
    "print(\"4次式における'LSTAT'の住宅価格への決定係数は%.2f\"%(score_4d))"
   ]
  },
  {
   "cell_type": "markdown",
   "metadata": {},
   "source": [
    "# 次数が大きくなるとどうなるか記述せよ\n",
    "以下の観点をすべて含めて記述しましょう。\n",
    "\n",
    "・説明変数をxとして、次数を増やしていくとどのように数式が変化していくか記述せよ（1次式 ax + b）  \n",
    "・次数を増やすとどのようなメリットが考えられるか  \n",
    "・次数を増やすとどのようなデメリットが考えられるか  "
   ]
  },
  {
   "cell_type": "markdown",
   "metadata": {},
   "source": [
    "**【回答】**  \n",
    "1次式： $ax+b$  \n",
    "2次式： $ax^2+bx+c$  \n",
    "3次式： $ax^3+bx^2+cx+d$  \n",
    "N次式： $\\sum_{i = 0}^{n}\\ w_ix^i $\n",
    "\n",
    "次数を増やすメリットとして一般的に言われていることは、表現力が高くなるので、１次関数より表現が豊かになる誤差（データとのずれ）が小さくなります。\n",
    "\n",
    "逆に、次元を増やすことのデメリットは、\n",
    "学習したデータにフィットしすぎて（オーバーフィッティング：過学習）他のデータへの予測する性能が落ちることがある。これを汎化性能が落ちるという。 これを防ぐために正規化という手法である程度防ぐことが可能となる。"
   ]
  },
  {
   "cell_type": "markdown",
   "metadata": {},
   "source": [
    "# 15.重回帰\n",
    "今回は、LSTATのみを使用したが、他の特徴量も使用して学習させましょう。重回帰を使用して、0.71以上の決定係数出れば合格です。"
   ]
  },
  {
   "cell_type": "code",
   "execution_count": 167,
   "metadata": {},
   "outputs": [],
   "source": [
    "boston = load_boston()\n",
    "W = pd.DataFrame(boston.data, columns=boston.feature_names)\n",
    "Z = pd.DataFrame(boston.target, columns=['target'])"
   ]
  },
  {
   "cell_type": "code",
   "execution_count": 168,
   "metadata": {},
   "outputs": [
    {
     "data": {
      "text/html": [
       "<div>\n",
       "<style scoped>\n",
       "    .dataframe tbody tr th:only-of-type {\n",
       "        vertical-align: middle;\n",
       "    }\n",
       "\n",
       "    .dataframe tbody tr th {\n",
       "        vertical-align: top;\n",
       "    }\n",
       "\n",
       "    .dataframe thead th {\n",
       "        text-align: right;\n",
       "    }\n",
       "</style>\n",
       "<table border=\"1\" class=\"dataframe\">\n",
       "  <thead>\n",
       "    <tr style=\"text-align: right;\">\n",
       "      <th></th>\n",
       "      <th>CRIM</th>\n",
       "      <th>ZN</th>\n",
       "      <th>INDUS</th>\n",
       "      <th>CHAS</th>\n",
       "      <th>NOX</th>\n",
       "      <th>RM</th>\n",
       "      <th>AGE</th>\n",
       "      <th>DIS</th>\n",
       "      <th>RAD</th>\n",
       "      <th>TAX</th>\n",
       "      <th>PTRATIO</th>\n",
       "      <th>B</th>\n",
       "      <th>LSTAT</th>\n",
       "    </tr>\n",
       "  </thead>\n",
       "  <tbody>\n",
       "    <tr>\n",
       "      <th>0</th>\n",
       "      <td>0.00632</td>\n",
       "      <td>18.0</td>\n",
       "      <td>2.31</td>\n",
       "      <td>0.0</td>\n",
       "      <td>0.538</td>\n",
       "      <td>6.575</td>\n",
       "      <td>65.2</td>\n",
       "      <td>4.0900</td>\n",
       "      <td>1.0</td>\n",
       "      <td>296.0</td>\n",
       "      <td>15.3</td>\n",
       "      <td>396.90</td>\n",
       "      <td>4.98</td>\n",
       "    </tr>\n",
       "    <tr>\n",
       "      <th>1</th>\n",
       "      <td>0.02731</td>\n",
       "      <td>0.0</td>\n",
       "      <td>7.07</td>\n",
       "      <td>0.0</td>\n",
       "      <td>0.469</td>\n",
       "      <td>6.421</td>\n",
       "      <td>78.9</td>\n",
       "      <td>4.9671</td>\n",
       "      <td>2.0</td>\n",
       "      <td>242.0</td>\n",
       "      <td>17.8</td>\n",
       "      <td>396.90</td>\n",
       "      <td>9.14</td>\n",
       "    </tr>\n",
       "    <tr>\n",
       "      <th>2</th>\n",
       "      <td>0.02729</td>\n",
       "      <td>0.0</td>\n",
       "      <td>7.07</td>\n",
       "      <td>0.0</td>\n",
       "      <td>0.469</td>\n",
       "      <td>7.185</td>\n",
       "      <td>61.1</td>\n",
       "      <td>4.9671</td>\n",
       "      <td>2.0</td>\n",
       "      <td>242.0</td>\n",
       "      <td>17.8</td>\n",
       "      <td>392.83</td>\n",
       "      <td>4.03</td>\n",
       "    </tr>\n",
       "  </tbody>\n",
       "</table>\n",
       "</div>"
      ],
      "text/plain": [
       "      CRIM    ZN  INDUS  CHAS    NOX     RM   AGE     DIS  RAD    TAX  \\\n",
       "0  0.00632  18.0   2.31   0.0  0.538  6.575  65.2  4.0900  1.0  296.0   \n",
       "1  0.02731   0.0   7.07   0.0  0.469  6.421  78.9  4.9671  2.0  242.0   \n",
       "2  0.02729   0.0   7.07   0.0  0.469  7.185  61.1  4.9671  2.0  242.0   \n",
       "\n",
       "   PTRATIO       B  LSTAT  \n",
       "0     15.3  396.90   4.98  \n",
       "1     17.8  396.90   9.14  \n",
       "2     17.8  392.83   4.03  "
      ]
     },
     "execution_count": 168,
     "metadata": {},
     "output_type": "execute_result"
    }
   ],
   "source": [
    "W.head(3)"
   ]
  },
  {
   "cell_type": "code",
   "execution_count": 169,
   "metadata": {},
   "outputs": [
    {
     "data": {
      "text/plain": [
       "((506, 13), (506, 1))"
      ]
     },
     "execution_count": 169,
     "metadata": {},
     "output_type": "execute_result"
    }
   ],
   "source": [
    "W.shape,Z.shape"
   ]
  },
  {
   "cell_type": "code",
   "execution_count": 170,
   "metadata": {},
   "outputs": [
    {
     "data": {
      "text/plain": [
       "Series([], dtype: int64)"
      ]
     },
     "execution_count": 170,
     "metadata": {},
     "output_type": "execute_result"
    }
   ],
   "source": [
    "#欠損値がないことを確認\n",
    "W.isnull().sum()[W.isnull().sum()>0]"
   ]
  },
  {
   "cell_type": "markdown",
   "metadata": {},
   "source": [
    "相関図を作成したいので、説明変数のXと、目的変数のYを１つのDataFrameへマージする。"
   ]
  },
  {
   "cell_type": "code",
   "execution_count": 171,
   "metadata": {},
   "outputs": [
    {
     "data": {
      "text/plain": [
       "(506, 14)"
      ]
     },
     "execution_count": 171,
     "metadata": {},
     "output_type": "execute_result"
    }
   ],
   "source": [
    "W[\"TARGET\"] = Z\n",
    "W.shape"
   ]
  },
  {
   "cell_type": "code",
   "execution_count": 172,
   "metadata": {},
   "outputs": [
    {
     "data": {
      "text/html": [
       "<div>\n",
       "<style scoped>\n",
       "    .dataframe tbody tr th:only-of-type {\n",
       "        vertical-align: middle;\n",
       "    }\n",
       "\n",
       "    .dataframe tbody tr th {\n",
       "        vertical-align: top;\n",
       "    }\n",
       "\n",
       "    .dataframe thead th {\n",
       "        text-align: right;\n",
       "    }\n",
       "</style>\n",
       "<table border=\"1\" class=\"dataframe\">\n",
       "  <thead>\n",
       "    <tr style=\"text-align: right;\">\n",
       "      <th></th>\n",
       "      <th>CRIM</th>\n",
       "      <th>ZN</th>\n",
       "      <th>INDUS</th>\n",
       "      <th>CHAS</th>\n",
       "      <th>NOX</th>\n",
       "      <th>RM</th>\n",
       "      <th>AGE</th>\n",
       "      <th>DIS</th>\n",
       "      <th>RAD</th>\n",
       "      <th>TAX</th>\n",
       "      <th>PTRATIO</th>\n",
       "      <th>B</th>\n",
       "      <th>LSTAT</th>\n",
       "      <th>TARGET</th>\n",
       "    </tr>\n",
       "  </thead>\n",
       "  <tbody>\n",
       "    <tr>\n",
       "      <th>0</th>\n",
       "      <td>0.00632</td>\n",
       "      <td>18.0</td>\n",
       "      <td>2.31</td>\n",
       "      <td>0.0</td>\n",
       "      <td>0.538</td>\n",
       "      <td>6.575</td>\n",
       "      <td>65.2</td>\n",
       "      <td>4.0900</td>\n",
       "      <td>1.0</td>\n",
       "      <td>296.0</td>\n",
       "      <td>15.3</td>\n",
       "      <td>396.90</td>\n",
       "      <td>4.98</td>\n",
       "      <td>24.0</td>\n",
       "    </tr>\n",
       "    <tr>\n",
       "      <th>1</th>\n",
       "      <td>0.02731</td>\n",
       "      <td>0.0</td>\n",
       "      <td>7.07</td>\n",
       "      <td>0.0</td>\n",
       "      <td>0.469</td>\n",
       "      <td>6.421</td>\n",
       "      <td>78.9</td>\n",
       "      <td>4.9671</td>\n",
       "      <td>2.0</td>\n",
       "      <td>242.0</td>\n",
       "      <td>17.8</td>\n",
       "      <td>396.90</td>\n",
       "      <td>9.14</td>\n",
       "      <td>21.6</td>\n",
       "    </tr>\n",
       "    <tr>\n",
       "      <th>2</th>\n",
       "      <td>0.02729</td>\n",
       "      <td>0.0</td>\n",
       "      <td>7.07</td>\n",
       "      <td>0.0</td>\n",
       "      <td>0.469</td>\n",
       "      <td>7.185</td>\n",
       "      <td>61.1</td>\n",
       "      <td>4.9671</td>\n",
       "      <td>2.0</td>\n",
       "      <td>242.0</td>\n",
       "      <td>17.8</td>\n",
       "      <td>392.83</td>\n",
       "      <td>4.03</td>\n",
       "      <td>34.7</td>\n",
       "    </tr>\n",
       "  </tbody>\n",
       "</table>\n",
       "</div>"
      ],
      "text/plain": [
       "      CRIM    ZN  INDUS  CHAS    NOX     RM   AGE     DIS  RAD    TAX  \\\n",
       "0  0.00632  18.0   2.31   0.0  0.538  6.575  65.2  4.0900  1.0  296.0   \n",
       "1  0.02731   0.0   7.07   0.0  0.469  6.421  78.9  4.9671  2.0  242.0   \n",
       "2  0.02729   0.0   7.07   0.0  0.469  7.185  61.1  4.9671  2.0  242.0   \n",
       "\n",
       "   PTRATIO       B  LSTAT  TARGET  \n",
       "0     15.3  396.90   4.98    24.0  \n",
       "1     17.8  396.90   9.14    21.6  \n",
       "2     17.8  392.83   4.03    34.7  "
      ]
     },
     "execution_count": 172,
     "metadata": {},
     "output_type": "execute_result"
    }
   ],
   "source": [
    "W.head(3)"
   ]
  },
  {
   "cell_type": "code",
   "execution_count": 173,
   "metadata": {},
   "outputs": [
    {
     "name": "stdout",
     "output_type": "stream",
     "text": [
      "TARGET    1.000000\n",
      "RM        0.695360\n",
      "ZN        0.360445\n",
      "B         0.333461\n",
      "Name: TARGET, dtype: float64\n",
      "--------\n",
      "LSTAT     -0.737663\n",
      "PTRATIO   -0.507787\n",
      "INDUS     -0.483725\n",
      "TAX       -0.468536\n",
      "Name: TARGET, dtype: float64\n"
     ]
    },
    {
     "data": {
      "image/png": "[encoded data removed]",
      "text/plain": [
       "<Figure size 432x288 with 2 Axes>"
      ]
     },
     "metadata": {},
     "output_type": "display_data"
    }
   ],
   "source": [
    "import seaborn as sns\n",
    "#相関係数を計算\n",
    "corr_matrix = W.corr()\n",
    "\n",
    "sns.heatmap(corr_matrix)\n",
    "# 目的変数と正・負の相関が高い変数をピックアップ\n",
    "print(corr_matrix.nlargest(4,'TARGET')['TARGET'])\n",
    "print('--------')\n",
    "print(corr_matrix.nsmallest(4,'TARGET')['TARGET'])"
   ]
  },
  {
   "cell_type": "markdown",
   "metadata": {},
   "source": [
    "相関が高いやつを適当にピックアップして見る。"
   ]
  },
  {
   "cell_type": "code",
   "execution_count": 174,
   "metadata": {},
   "outputs": [
    {
     "data": {
      "text/plain": [
       "(506, 6)"
      ]
     },
     "execution_count": 174,
     "metadata": {},
     "output_type": "execute_result"
    }
   ],
   "source": [
    "W = W[[\"RM\",\"TAX\",\"LSTAT\",\"PTRATIO\",\"INDUS\",\"NOX\"]]\n",
    "W.shape"
   ]
  },
  {
   "cell_type": "code",
   "execution_count": 175,
   "metadata": {},
   "outputs": [],
   "source": [
    "X2_train, X2_test, y2_train, y2_test = train_test_split(W, Z, test_size=0.2, random_state=0)"
   ]
  },
  {
   "cell_type": "code",
   "execution_count": 176,
   "metadata": {},
   "outputs": [
    {
     "data": {
      "text/plain": [
       "((404, 6), (102, 6), (404, 1), (102, 1))"
      ]
     },
     "execution_count": 176,
     "metadata": {},
     "output_type": "execute_result"
    }
   ],
   "source": [
    "X2_train.shape, X2_test.shape, y2_train.shape, y2_test.shape"
   ]
  },
  {
   "cell_type": "code",
   "execution_count": 179,
   "metadata": {},
   "outputs": [
    {
     "name": "stdout",
     "output_type": "stream",
     "text": [
      "3次元　:スコア 0.7209402014725346\n"
     ]
    }
   ],
   "source": [
    "score= []\n",
    "for i in range(1,5):\n",
    "    lin_n = LinearRegression(normalize=True)\n",
    "    degree_n = PolynomialFeatures(degree=i)\n",
    "    X_train_n = degree_n.fit_transform(X2_train)\n",
    "    X_test_n = degree_n.fit_transform(X2_test)\n",
    "    lin_n.fit(X_train_n, y2_train)\n",
    "    score.append([i, lin_n.score(X_test_n, y2_test)])\n",
    "        \n",
    "score.sort(key=lambda x: x[1])\n",
    "score.reverse()\n",
    "\n",
    "print(\"{0[0][0]}次元　:スコア {0[0][1]}\".format(score))\n",
    "    "
   ]
  },
  {
   "cell_type": "markdown",
   "metadata": {},
   "source": [
    "# 16.重回帰について記述せよ\n",
    "以下の観点をすべて含めて記述しましょう。\n",
    "\n",
    "・説明変数を増やすことでどのようなメリットがあるか  \n",
    "・説明変数を増やすことでどのようなデメリットがあるか"
   ]
  },
  {
   "cell_type": "markdown",
   "metadata": {},
   "source": [
    "**【回答】**  \n",
    "複数の特徴で回帰分析することを「重回帰分析」といいます。\n",
    "\n",
    "重回帰分析のメリットは、説明変数を一つしか使わない単回帰分析に比べて予想の精度が上がります。\n",
    "\n",
    "またデメリットは、説明変数同士の相関係数が高いものを入れると精度が落ちることや、相関係数が０に近いものを入れると、精度が落ちるようです。\n",
    "\n",
    "以下に参考になるURLの記事を記載します。\n",
    "~~~~~~~~~~~~~~~~\n",
    "https://xica.net/vno4ul5p/\n",
    "重回帰分析を行っている際、説明変数を増やすほど決定係数が高くなりやすいため、ついついよりたくさんの説明変数を入れてしまいがちです。しかし、その際に気をつけなければならないことがあります。それが多重共線性です。\n",
    "\n",
    "多重共線性とは、説明変数間で相関係数が高いときに、それが原因で発生する現象です。（英語で multicollinearity と言われるため、略して「マルチコ」とも呼ばれます）\n",
    "\n",
    "多重共線性によって引き起こされる症状は、\n",
    "・分析結果における係数の標準誤差が大きくなる  \n",
    "・t値が小さくなる  \n",
    "・決定係数が大きな値となる  \n",
    "・回帰係数の符号が本来なるべきものとは逆の符号となる  \n",
    "~~~~~~~~~~~~~~~~"
   ]
  }
 ],
 "metadata": {
  "kernelspec": {
   "display_name": "Python 3",
   "language": "python",
   "name": "python3"
  },
  "language_info": {
   "codemirror_mode": {
    "name": "ipython",
    "version": 3
   },
   "file_extension": ".py",
   "mimetype": "text/x-python",
   "name": "python",
   "nbconvert_exporter": "python",
   "pygments_lexer": "ipython3",
   "version": "3.6.6"
  },
  "toc": {
   "base_numbering": 1,
   "nav_menu": {},
   "number_sections": false,
   "sideBar": true,
   "skip_h1_title": false,
   "title_cell": "Table of Contents",
   "title_sidebar": "Contents",
   "toc_cell": false,
   "toc_position": {
    "height": "calc(100% - 180px)",
    "left": "10px",
    "top": "150px",
    "width": "165px"
   },
   "toc_section_display": true,
   "toc_window_display": false
  }
 },
 "nbformat": 4,
 "nbformat_minor": 2
}
