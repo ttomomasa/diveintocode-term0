{
 "cells": [
  {
   "cell_type": "code",
   "execution_count": 5,
   "metadata": {
    "collapsed": false
   },
   "outputs": [
    {
     "name": "stdout",
     "output_type": "stream",
     "text": [
      "Aの行列：---------\n",
      "[[1 2]\n",
      " [3 4]\n",
      " [5 6]]\n",
      "\n",
      "A.T（Aの転置行列）：---------\n",
      "[[1 3 5]\n",
      " [2 4 6]]\n",
      "\n",
      "M（=A.Tでaxis=1）A行列を転置して、横軸の平均値を取得する：---------\n",
      "[ 3.  4.]\n",
      "\n",
      "M1（=Aでaxis=0）A行列を転置しないで、縦軸の平均値を取得する：---------\n",
      "[ 3.  4.]\n",
      "\n",
      "C = A - M　ブロードキャストを利用して平均値との差を取得：---------\n",
      "[[-2. -2.]\n",
      " [ 0.  0.]\n",
      " [ 2.  2.]]\n",
      "\n",
      "C1 = A - M1　ブロードキャストを利用して平均値との差を取得：---------\n",
      "[[-2. -2.]\n",
      " [ 0.  0.]\n",
      " [ 2.  2.]]\n",
      "\n",
      "Cの転置行列：---------\n",
      "[[-2.  0.  2.]\n",
      " [-2.  0.  2.]]\n",
      "\n",
      "V = cov(C.T)共分散行列を求める：---------\n",
      "[[ 4.  4.]\n",
      " [ 4.  4.]]\n",
      "\n",
      "values, vectors = eig(V)共分散行列の固有値分解：---------\n",
      "values（固有値）：---------\n",
      "[ 8.  0.]\n",
      "\n",
      "vectors（固有ベクトル）：---------\n",
      "[[ 0.70710678 -0.70710678]\n",
      " [ 0.70710678  0.70710678]]\n",
      "\n",
      "P = dot(vectors.T, C.T)：---------\n",
      "[[-2.82842712  0.        ]\n",
      " [ 0.          0.        ]\n",
      " [ 2.82842712  0.        ]]\n"
     ]
    }
   ],
   "source": [
    "from numpy import array\n",
    "from numpy import mean\n",
    "from numpy import cov\n",
    "from numpy import dot\n",
    "from numpy.linalg import eig\n",
    "\n",
    "# numpy配列を定義します。\n",
    "A = array([[1, 2], [3, 4], [5, 6]])\n",
    "print('Aの行列：---------')\n",
    "print(A)\n",
    "print('')\n",
    "print('A.T（Aの転置行列）：---------')\n",
    "print(A.T)\n",
    "print('')\n",
    "\n",
    "#　A行列の縦方向の平均を求めます。\n",
    "M = mean(A.T, axis=1)\n",
    "print('M（=A.Tでaxis=1）A行列を転置して、横軸の平均値を取得する：---------')\n",
    "print(M)\n",
    "print('')\n",
    "\n",
    "M1 = mean(A, axis=0)\n",
    "print('M1（=Aでaxis=0）A行列を転置しないで、縦軸の平均値を取得する：---------')\n",
    "print(M1)\n",
    "print('')\n",
    "\n",
    "# 平均との差を取得します。分散値を取得します。\n",
    "C = A - M\n",
    "print('C = A - M　ブロードキャストを利用して平均値との差を取得：---------')\n",
    "print(C)\n",
    "print('')\n",
    "\n",
    "C1 = A - M1\n",
    "print('C1 = A - M1　ブロードキャストを利用して平均値との差を取得：---------')\n",
    "print(C1)\n",
    "print('')\n",
    "\n",
    "print('Cの転置行列：---------')\n",
    "print(C.T)\n",
    "print('')\n",
    "\n",
    "\n",
    "# 共分散行列を取得します。 \n",
    "#　numpy.covは、共分散を求めてくれる関数です\n",
    "#　共分散というのは、二組の対応するデータがどれほどお互いに影響を持ちながら散らばっているかを表します。\n",
    "V = cov(C.T)\n",
    "print('V = cov(C.T)共分散行列を求める：---------')\n",
    "print(V)\n",
    "print('')\n",
    "\n",
    "# 共分散行列の固有値・固有ベクトル分解\n",
    "#　eig(a)は、配列を受け取り、固有値と固有ベクトル、2つのベクトルを返します。\n",
    "values, vectors = eig(V)\n",
    "print('values, vectors = eig(V)共分散行列の固有値分解：---------')\n",
    "print('values（固有値）：---------')\n",
    "print(values)\n",
    "print('')\n",
    "\n",
    "print('vectors（固有ベクトル）：---------')\n",
    "print(vectors)\n",
    "print('')\n",
    "\n",
    "# 固有値ベクトルと、Cの転置とのドット積\n",
    "print('P = dot(vectors.T, C.T)：---------')\n",
    "P = dot(vectors.T, C.T)\n",
    "print(P.T)\n"
   ]
  },
  {
   "cell_type": "code",
   "execution_count": 35,
   "metadata": {
    "collapsed": false
   },
   "outputs": [],
   "source": [
    "tomo = np.array([[2,2],[4,4]])"
   ]
  },
  {
   "cell_type": "code",
   "execution_count": 40,
   "metadata": {
    "collapsed": false
   },
   "outputs": [
    {
     "data": {
      "text/plain": [
       "array([[0, 1],\n",
       "       [2, 3]])"
      ]
     },
     "execution_count": 40,
     "metadata": {},
     "output_type": "execute_result"
    }
   ],
   "source": [
    "tomo -np.array([2,1])"
   ]
  },
  {
   "cell_type": "code",
   "execution_count": null,
   "metadata": {
    "collapsed": true
   },
   "outputs": [],
   "source": []
  }
 ],
 "metadata": {
  "kernelspec": {
   "display_name": "Python 3",
   "language": "python",
   "name": "python3"
  },
  "language_info": {
   "codemirror_mode": {
    "name": "ipython",
    "version": 3
   },
   "file_extension": ".py",
   "mimetype": "text/x-python",
   "name": "python",
   "nbconvert_exporter": "python",
   "pygments_lexer": "ipython3",
   "version": "3.6.0"
  }
 },
 "nbformat": 4,
 "nbformat_minor": 2
}
